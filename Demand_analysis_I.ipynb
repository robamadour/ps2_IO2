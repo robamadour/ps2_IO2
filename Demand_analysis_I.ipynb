{
 "cells": [
  {
   "cell_type": "markdown",
   "metadata": {},
   "source": [
    "# Demand Analysis I\n",
    "\n",
    "## Preliminaries"
   ]
  },
  {
   "cell_type": "code",
   "execution_count": 25,
   "metadata": {},
   "outputs": [],
   "source": [
    "# Load libraries\n",
    "import numpy as np\n",
    "import pandas as pd\n",
    "import HWDataProcessing as dp\n",
    "import EstimationTools as et\n",
    "from EstimationTools import Model\n",
    "from EstimationTools import ModelSpecification"
   ]
  },
  {
   "cell_type": "code",
   "execution_count": 26,
   "metadata": {},
   "outputs": [
    {
     "data": {
      "text/plain": [
       "array([[1, 2, 3],\n",
       "       [4, 5, 6],\n",
       "       [7, 8, 9]])"
      ]
     },
     "execution_count": 26,
     "metadata": {},
     "output_type": "execute_result"
    }
   ],
   "source": [
    "a = np.array([[1,2,3],[4,5,6],[7,8,9]])\n",
    "a"
   ]
  },
  {
   "cell_type": "code",
   "execution_count": 37,
   "metadata": {},
   "outputs": [
    {
     "data": {
      "text/plain": [
       "[2, 0]"
      ]
     },
     "execution_count": 37,
     "metadata": {},
     "output_type": "execute_result"
    }
   ],
   "source": [
    "a.reshape((9,),order='F')\n",
    "\n",
    "f = lambda i: [i%3,i//3]\n",
    "f(2) \n"
   ]
  },
  {
   "cell_type": "code",
   "execution_count": 34,
   "metadata": {},
   "outputs": [
    {
     "data": {
      "text/plain": [
       "array([[1, 2, 3],\n",
       "       [4, 0, 6],\n",
       "       [0, 8, 9]])"
      ]
     },
     "execution_count": 34,
     "metadata": {},
     "output_type": "execute_result"
    }
   ],
   "source": [
    "b = a.reshape((9,),order='F')\n",
    "b[[2,4]] = 0\n",
    "b.reshape((3,3),order='F')"
   ]
  },
  {
   "cell_type": "code",
   "execution_count": 2,
   "metadata": {},
   "outputs": [
    {
     "data": {
      "text/html": [
       "<div>\n",
       "<style scoped>\n",
       "    .dataframe tbody tr th:only-of-type {\n",
       "        vertical-align: middle;\n",
       "    }\n",
       "\n",
       "    .dataframe tbody tr th {\n",
       "        vertical-align: top;\n",
       "    }\n",
       "\n",
       "    .dataframe thead th {\n",
       "        text-align: right;\n",
       "    }\n",
       "</style>\n",
       "<table border=\"1\" class=\"dataframe\">\n",
       "  <thead>\n",
       "    <tr style=\"text-align: right;\">\n",
       "      <th></th>\n",
       "      <th>buyerid</th>\n",
       "      <th>age</th>\n",
       "      <th>education</th>\n",
       "      <th>inc</th>\n",
       "      <th>gender</th>\n",
       "      <th>location</th>\n",
       "      <th>purchase</th>\n",
       "      <th>brandid</th>\n",
       "      <th>mint</th>\n",
       "      <th>white</th>\n",
       "      <th>...</th>\n",
       "      <th>loc_Queens</th>\n",
       "      <th>gen_Female</th>\n",
       "      <th>gen_Male</th>\n",
       "      <th>gen_Other</th>\n",
       "      <th>purchase_InStore</th>\n",
       "      <th>purchase_Online</th>\n",
       "      <th>brand_Aquafresh</th>\n",
       "      <th>brand_Colgate</th>\n",
       "      <th>brand_Crest</th>\n",
       "      <th>brand_Sensodyne</th>\n",
       "    </tr>\n",
       "  </thead>\n",
       "  <tbody>\n",
       "    <tr>\n",
       "      <th>0</th>\n",
       "      <td>1</td>\n",
       "      <td>56</td>\n",
       "      <td>College</td>\n",
       "      <td>0.079523</td>\n",
       "      <td>Female</td>\n",
       "      <td>Brooklyn</td>\n",
       "      <td>Online</td>\n",
       "      <td>Colgate</td>\n",
       "      <td>1</td>\n",
       "      <td>1</td>\n",
       "      <td>...</td>\n",
       "      <td>0</td>\n",
       "      <td>1</td>\n",
       "      <td>0</td>\n",
       "      <td>0</td>\n",
       "      <td>0</td>\n",
       "      <td>1</td>\n",
       "      <td>0</td>\n",
       "      <td>1</td>\n",
       "      <td>0</td>\n",
       "      <td>0</td>\n",
       "    </tr>\n",
       "    <tr>\n",
       "      <th>1</th>\n",
       "      <td>1</td>\n",
       "      <td>56</td>\n",
       "      <td>College</td>\n",
       "      <td>0.079523</td>\n",
       "      <td>Female</td>\n",
       "      <td>Brooklyn</td>\n",
       "      <td>Online</td>\n",
       "      <td>Colgate</td>\n",
       "      <td>1</td>\n",
       "      <td>0</td>\n",
       "      <td>...</td>\n",
       "      <td>0</td>\n",
       "      <td>1</td>\n",
       "      <td>0</td>\n",
       "      <td>0</td>\n",
       "      <td>0</td>\n",
       "      <td>1</td>\n",
       "      <td>0</td>\n",
       "      <td>1</td>\n",
       "      <td>0</td>\n",
       "      <td>0</td>\n",
       "    </tr>\n",
       "    <tr>\n",
       "      <th>2</th>\n",
       "      <td>1</td>\n",
       "      <td>56</td>\n",
       "      <td>College</td>\n",
       "      <td>0.079523</td>\n",
       "      <td>Female</td>\n",
       "      <td>Brooklyn</td>\n",
       "      <td>Online</td>\n",
       "      <td>Colgate</td>\n",
       "      <td>0</td>\n",
       "      <td>1</td>\n",
       "      <td>...</td>\n",
       "      <td>0</td>\n",
       "      <td>1</td>\n",
       "      <td>0</td>\n",
       "      <td>0</td>\n",
       "      <td>0</td>\n",
       "      <td>1</td>\n",
       "      <td>0</td>\n",
       "      <td>1</td>\n",
       "      <td>0</td>\n",
       "      <td>0</td>\n",
       "    </tr>\n",
       "    <tr>\n",
       "      <th>3</th>\n",
       "      <td>1</td>\n",
       "      <td>56</td>\n",
       "      <td>College</td>\n",
       "      <td>0.079523</td>\n",
       "      <td>Female</td>\n",
       "      <td>Brooklyn</td>\n",
       "      <td>Online</td>\n",
       "      <td>Crest</td>\n",
       "      <td>1</td>\n",
       "      <td>1</td>\n",
       "      <td>...</td>\n",
       "      <td>0</td>\n",
       "      <td>1</td>\n",
       "      <td>0</td>\n",
       "      <td>0</td>\n",
       "      <td>0</td>\n",
       "      <td>1</td>\n",
       "      <td>0</td>\n",
       "      <td>0</td>\n",
       "      <td>1</td>\n",
       "      <td>0</td>\n",
       "    </tr>\n",
       "    <tr>\n",
       "      <th>4</th>\n",
       "      <td>1</td>\n",
       "      <td>56</td>\n",
       "      <td>College</td>\n",
       "      <td>0.079523</td>\n",
       "      <td>Female</td>\n",
       "      <td>Brooklyn</td>\n",
       "      <td>Online</td>\n",
       "      <td>Crest</td>\n",
       "      <td>0</td>\n",
       "      <td>0</td>\n",
       "      <td>...</td>\n",
       "      <td>0</td>\n",
       "      <td>1</td>\n",
       "      <td>0</td>\n",
       "      <td>0</td>\n",
       "      <td>0</td>\n",
       "      <td>1</td>\n",
       "      <td>0</td>\n",
       "      <td>0</td>\n",
       "      <td>1</td>\n",
       "      <td>0</td>\n",
       "    </tr>\n",
       "  </tbody>\n",
       "</table>\n",
       "<p>5 rows × 37 columns</p>\n",
       "</div>"
      ],
      "text/plain": [
       "   buyerid  age education       inc  gender  location purchase  brandid  mint  \\\n",
       "0        1   56   College  0.079523  Female  Brooklyn   Online  Colgate     1   \n",
       "1        1   56   College  0.079523  Female  Brooklyn   Online  Colgate     1   \n",
       "2        1   56   College  0.079523  Female  Brooklyn   Online  Colgate     0   \n",
       "3        1   56   College  0.079523  Female  Brooklyn   Online    Crest     1   \n",
       "4        1   56   College  0.079523  Female  Brooklyn   Online    Crest     0   \n",
       "\n",
       "   white  ...  loc_Queens  gen_Female  gen_Male  gen_Other  purchase_InStore  \\\n",
       "0      1  ...           0           1         0          0                 0   \n",
       "1      0  ...           0           1         0          0                 0   \n",
       "2      1  ...           0           1         0          0                 0   \n",
       "3      1  ...           0           1         0          0                 0   \n",
       "4      0  ...           0           1         0          0                 0   \n",
       "\n",
       "   purchase_Online  brand_Aquafresh  brand_Colgate  brand_Crest  \\\n",
       "0                1                0              1            0   \n",
       "1                1                0              1            0   \n",
       "2                1                0              1            0   \n",
       "3                1                0              0            1   \n",
       "4                1                0              0            1   \n",
       "\n",
       "   brand_Sensodyne  \n",
       "0                0  \n",
       "1                0  \n",
       "2                0  \n",
       "3                0  \n",
       "4                0  \n",
       "\n",
       "[5 rows x 37 columns]"
      ]
     },
     "execution_count": 2,
     "metadata": {},
     "output_type": "execute_result"
    }
   ],
   "source": [
    "# Load data\n",
    "dataFile = \"data/Shining32.csv\"\n",
    "data = pd.read_csv(dataFile)\n",
    "\n",
    "# Process data\n",
    "data = dp.CleanDataSet(data)\n",
    "\n",
    "# Take a look\n",
    "data.head()"
   ]
  },
  {
   "cell_type": "markdown",
   "metadata": {},
   "source": [
    "## Simple logit model estimation"
   ]
  },
  {
   "cell_type": "code",
   "execution_count": null,
   "metadata": {},
   "outputs": [],
   "source": [
    "# Model specification\n",
    "J = 10     # number of products\n",
    "yName = \"Chosen\"\n",
    "xName = [\"mint\",\"white\",\"fluoride\",\"kids\"]  # product characteristics\n",
    "zName = []              # consumer attributes\n",
    "pName = \"priceperpack\"  # product price\n",
    "brands = \"brandid\"      # brand identifier\n",
    "iv = [\"discount\"]\n",
    "\n",
    "logitMod = Model(type='logit',data=data,J=J,y=yName,x=xName,z=zName,\n",
    "                p=pName,brands = brands,iv=iv)"
   ]
  },
  {
   "cell_type": "code",
   "execution_count": null,
   "metadata": {},
   "outputs": [
    {
     "name": "stdout",
     "output_type": "stream",
     "text": [
      "Optimization terminated successfully.\n",
      "         Current function value: 0.000000\n",
      "         Iterations: 34\n",
      "         Function evaluations: 222\n",
      "         Gradient evaluations: 37\n",
      "Warning: Desired error not necessarily achieved due to precision loss.\n",
      "         Current function value: 0.000000\n",
      "         Iterations: 7\n",
      "         Function evaluations: 144\n",
      "         Gradient evaluations: 22\n"
     ]
    },
    {
     "data": {
      "text/plain": [
       "(array([ 1.89389967, -1.0634944 ,  0.28448555, -1.02661954, -2.31469652]),\n",
       " array([[ 0.15988221,  0.05801044,  0.03512713,  0.16004204, -0.17914266],\n",
       "        [ 0.05801044,  0.02248345,  0.01362962,  0.05817277, -0.06816386],\n",
       "        [ 0.03512713,  0.01362962,  0.00876988,  0.03496936, -0.04010268],\n",
       "        [ 0.16004204,  0.05817277,  0.03496936,  0.16666963, -0.18128019],\n",
       "        [-0.17914266, -0.06816386, -0.04010268, -0.18128019,  0.2281882 ]]),\n",
       " array([0.39985273, 0.14994481, 0.09364762, 0.40825192, 0.47769049]))"
      ]
     },
     "metadata": {},
     "output_type": "display_data"
    }
   ],
   "source": [
    "estimates,vcv = logitMod.fitLogit()\n",
    "estimates,vcv,np.sqrt(np.diag(vcv))"
   ]
  },
  {
   "cell_type": "code",
   "execution_count": null,
   "metadata": {},
   "outputs": [
    {
     "data": {
      "text/plain": [
       "array([[ -8.76876708,   2.90049744,   0.02690765,   0.89604464,\n",
       "          0.09924563,   0.93813528,   0.04876691,   2.91828575,\n",
       "          0.02463005,   0.15089887],\n",
       "       [  0.91796478,  -6.7007548 ,   0.02690765,   0.89604464,\n",
       "          0.09924563,   0.93813528,   0.04876691,   2.91828575,\n",
       "          0.02463005,   0.15089887],\n",
       "       [  0.91796478,   2.90049744, -10.92671049,   0.89604464,\n",
       "          0.09924563,   0.93813528,   0.04876691,   2.91828575,\n",
       "          0.02463005,   0.15089887],\n",
       "       [  0.91796478,   2.90049744,   0.02690765,  -8.81924594,\n",
       "          0.09924563,   0.93813528,   0.04876691,   2.91828575,\n",
       "          0.02463005,   0.15089887],\n",
       "       [  0.91796478,   2.90049744,   0.02690765,   0.89604464,\n",
       "        -10.53720839,   0.93813528,   0.04876691,   2.91828575,\n",
       "          0.02463005,   0.15089887],\n",
       "       [  0.91796478,   2.90049744,   0.02690765,   0.89604464,\n",
       "          0.09924563, -10.00598566,   0.04876691,   2.91828575,\n",
       "          0.02463005,   0.15089887],\n",
       "       [  0.91796478,   2.90049744,   0.02690765,   0.89604464,\n",
       "          0.09924563,   0.93813528, -11.41139515,   2.91828575,\n",
       "          0.02463005,   0.15089887],\n",
       "       [  0.91796478,   2.90049744,   0.02690765,   0.89604464,\n",
       "          0.09924563,   0.93813528,   0.04876691,  -6.67437433,\n",
       "          0.02463005,   0.15089887],\n",
       "       [  0.91796478,   2.90049744,   0.02690765,   0.89604464,\n",
       "          0.09924563,   0.93813528,   0.04876691,   2.91828575,\n",
       "        -10.68520463,   0.15089887],\n",
       "       [  0.91796478,   2.90049744,   0.02690765,   0.89604464,\n",
       "          0.09924563,   0.93813528,   0.04876691,   2.91828575,\n",
       "          0.02463005,  -9.57161588]])"
      ]
     },
     "metadata": {},
     "output_type": "display_data"
    }
   ],
   "source": [
    "elasticities= logitMod.getElasticityLogit(estimates)\n",
    "elasticities"
   ]
  },
  {
   "cell_type": "markdown",
   "metadata": {},
   "source": [
    "## Mixed logit model estimation"
   ]
  },
  {
   "cell_type": "code",
   "execution_count": 3,
   "metadata": {},
   "outputs": [],
   "source": [
    "# Model specification\n",
    "modelSpec = ModelSpecification()\n",
    "modelSpec.type = 'mixed_logit'\n",
    "modelSpec.data = data\n",
    "modelSpec.J = 10     # number of products\n",
    "modelSpec.i = \"buyerid\" # consumer identifier\n",
    "modelSpec.y = \"Chosen\" # choice variable\n",
    "modelSpec.y2 = \"Chosen\" # choice variable\n",
    "modelSpec.x = [\"mint\",\"white\",\"fluoride\",\"kids\"]  # product characteristics\n",
    "modelSpec.p = \"priceperpack\"  # product price\n",
    "modelSpec.iv = [\"discount\"]       # iv for prices\n",
    "modelSpec.zeta = [\"income\"]              # obs. consumer attributes\n",
    "\n",
    "# Second moment interactions: choose which product characteristics (X) and \n",
    "# consumer attributes to interact (zeta) to form first-choice moments\n",
    "# It must be defined as a list of index pairs [X,zeta]\n",
    "modelSpec.XZetaInter = [[4,0]] # X=4(=len(x)) -> price; zeta=0 -> income \n",
    "\n",
    "# Third moment interactions: choose which product characteristics of first- and\n",
    "# second-choice to interact to form second-choice momentes\n",
    "# It must be defined as a list of indexes\n",
    "modelSpec.X1X2Inter = [4] #X=4 -> interact price\n",
    "\n",
    "# unobs. consumer attributes. It is a kx1 vector, where k = len([X,p]), or 0s \n",
    "# and 1s. A 1 in entry k indicates that product characteristic k is interacted with\n",
    "# an unobserved consumer attribute.\n",
    "modelSpec.nu = np.array([1,1,1,1,1])\n",
    "modelSpec.ns = 1000   # number of draws for Monte-Carlo integration\n",
    "modelSpec.seed = 1984 # seed for random number generation\n",
    "\n",
    "modelSpec.secondChoice = True # Whether second choice moments are used in estimation\n",
    "modelSpec.brands = \"brandid\"      # brand name variable\n",
    "\n",
    "# Model instance creation\n",
    "mixedLogitMod = Model(modelSpec)"
   ]
  },
  {
   "cell_type": "code",
   "execution_count": 10,
   "metadata": {},
   "outputs": [
    {
     "ename": "TypeError",
     "evalue": "only integer scalar arrays can be converted to a scalar index",
     "output_type": "error",
     "traceback": [
      "\u001b[1;31m---------------------------------------------------------------------------\u001b[0m",
      "\u001b[1;31mTypeError\u001b[0m                                 Traceback (most recent call last)",
      "\u001b[1;32mg:\\My Drive\\Columbia_doc\\My Classes\\IO II\\Problem sets\\ps2_IO2\\Demand_analysis_I.ipynb Cell 10'\u001b[0m in \u001b[0;36m<cell line: 3>\u001b[1;34m()\u001b[0m\n\u001b[0;32m      <a href='vscode-notebook-cell:/g%3A/My%20Drive/Columbia_doc/My%20Classes/IO%20II/Problem%20sets/ps2_IO2/Demand_analysis_I.ipynb#ch0000011?line=0'>1</a>\u001b[0m a \u001b[39m=\u001b[39m [\u001b[39m'\u001b[39m\u001b[39msds\u001b[39m\u001b[39m'\u001b[39m, \u001b[39m'\u001b[39m\u001b[39msdds\u001b[39m\u001b[39m'\u001b[39m, \u001b[39m'\u001b[39m\u001b[39msd\u001b[39m\u001b[39m'\u001b[39m]\n\u001b[0;32m      <a href='vscode-notebook-cell:/g%3A/My%20Drive/Columbia_doc/My%20Classes/IO%20II/Problem%20sets/ps2_IO2/Demand_analysis_I.ipynb#ch0000011?line=1'>2</a>\u001b[0m b \u001b[39m=\u001b[39m np\u001b[39m.\u001b[39marray([\u001b[39m1\u001b[39m,\u001b[39m0\u001b[39m,\u001b[39m1\u001b[39m]) \u001b[39m==\u001b[39m \u001b[39m1\u001b[39m\n\u001b[1;32m----> <a href='vscode-notebook-cell:/g%3A/My%20Drive/Columbia_doc/My%20Classes/IO%20II/Problem%20sets/ps2_IO2/Demand_analysis_I.ipynb#ch0000011?line=2'>3</a>\u001b[0m a[np\u001b[39m.\u001b[39;49marray([\u001b[39m1\u001b[39;49m,\u001b[39m0\u001b[39;49m,\u001b[39m1\u001b[39;49m])]\n",
      "\u001b[1;31mTypeError\u001b[0m: only integer scalar arrays can be converted to a scalar index"
     ]
    }
   ],
   "source": [
    "a = ['sds', 'sdds', 'sd']\n",
    "b = np.array([1,0,1]) == 1\n"
   ]
  },
  {
   "cell_type": "code",
   "execution_count": 5,
   "metadata": {},
   "outputs": [
    {
     "data": {
      "text/plain": [
       "array([[ -8.76876708,   2.90049744,   0.02690765,   0.89604464,\n",
       "          0.09924563,   0.93813528,   0.04876691,   2.91828575,\n",
       "          0.02463005,   0.15089887],\n",
       "       [  0.91796478,  -6.7007548 ,   0.02690765,   0.89604464,\n",
       "          0.09924563,   0.93813528,   0.04876691,   2.91828575,\n",
       "          0.02463005,   0.15089887],\n",
       "       [  0.91796478,   2.90049744, -10.92671049,   0.89604464,\n",
       "          0.09924563,   0.93813528,   0.04876691,   2.91828575,\n",
       "          0.02463005,   0.15089887],\n",
       "       [  0.91796478,   2.90049744,   0.02690765,  -8.81924594,\n",
       "          0.09924563,   0.93813528,   0.04876691,   2.91828575,\n",
       "          0.02463005,   0.15089887],\n",
       "       [  0.91796478,   2.90049744,   0.02690765,   0.89604464,\n",
       "        -10.53720839,   0.93813528,   0.04876691,   2.91828575,\n",
       "          0.02463005,   0.15089887],\n",
       "       [  0.91796478,   2.90049744,   0.02690765,   0.89604464,\n",
       "          0.09924563, -10.00598566,   0.04876691,   2.91828575,\n",
       "          0.02463005,   0.15089887],\n",
       "       [  0.91796478,   2.90049744,   0.02690765,   0.89604464,\n",
       "          0.09924563,   0.93813528, -11.41139515,   2.91828575,\n",
       "          0.02463005,   0.15089887],\n",
       "       [  0.91796478,   2.90049744,   0.02690765,   0.89604464,\n",
       "          0.09924563,   0.93813528,   0.04876691,  -6.67437433,\n",
       "          0.02463005,   0.15089887],\n",
       "       [  0.91796478,   2.90049744,   0.02690765,   0.89604464,\n",
       "          0.09924563,   0.93813528,   0.04876691,   2.91828575,\n",
       "        -10.68520463,   0.15089887],\n",
       "       [  0.91796478,   2.90049744,   0.02690765,   0.89604464,\n",
       "          0.09924563,   0.93813528,   0.04876691,   2.91828575,\n",
       "          0.02463005,  -9.57161588]])"
      ]
     },
     "execution_count": 5,
     "metadata": {},
     "output_type": "execute_result"
    }
   ],
   "source": [
    "elasticities= logitMod.getElasticityLogit(estimates)\n",
    "elasticities"
   ]
  }
 ],
 "metadata": {
  "interpreter": {
   "hash": "88fefc2954767e35069c6a222a5ba8e7cd940ce15e62d7c395c2788427b161d1"
  },
  "kernelspec": {
   "display_name": "Python 3.10.0 ('.venv': venv)",
   "language": "python",
   "name": "python3"
  },
  "language_info": {
   "codemirror_mode": {
    "name": "ipython",
    "version": 3
   },
   "file_extension": ".py",
   "mimetype": "text/x-python",
   "name": "python",
   "nbconvert_exporter": "python",
   "pygments_lexer": "ipython3",
   "version": "3.10.0"
  },
  "orig_nbformat": 4
 },
 "nbformat": 4,
 "nbformat_minor": 2
}
