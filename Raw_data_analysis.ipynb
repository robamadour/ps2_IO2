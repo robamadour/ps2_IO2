{
 "cells": [
  {
   "cell_type": "markdown",
   "id": "e36f46d7",
   "metadata": {},
   "source": [
    "# Exploratory analysis"
   ]
  },
  {
   "cell_type": "code",
   "execution_count": 92,
   "id": "1fb98558",
   "metadata": {},
   "outputs": [
    {
     "name": "stderr",
     "output_type": "stream",
     "text": [
      "\n",
      "Please cite as: \n",
      "\n",
      "\n",
      " Hlavac, Marek (2022). stargazer: Well-Formatted Regression and Summary Statistics Tables.\n",
      "\n",
      " R package version 5.2.3. https://CRAN.R-project.org/package=stargazer \n",
      "\n",
      "\n"
     ]
    }
   ],
   "source": [
    "library(dplyr)\n",
    "library(ggplot2)\n",
    "library(corrplot)\n",
    "library(stargazer)"
   ]
  },
  {
   "cell_type": "code",
   "execution_count": 44,
   "id": "35b2b6cc",
   "metadata": {},
   "outputs": [
    {
     "data": {
      "text/html": [
       "<table class=\"dataframe\">\n",
       "<caption>A data.frame: 6 × 19</caption>\n",
       "<thead>\n",
       "\t<tr><th></th><th scope=col>buyerid</th><th scope=col>age</th><th scope=col>education</th><th scope=col>inc</th><th scope=col>gender</th><th scope=col>location</th><th scope=col>purchase</th><th scope=col>brandid</th><th scope=col>mint</th><th scope=col>white</th><th scope=col>fluoride</th><th scope=col>kids</th><th scope=col>size</th><th scope=col>discount</th><th scope=col>familypack</th><th scope=col>priceperoz</th><th scope=col>priceperpack</th><th scope=col>Chosen</th><th scope=col>SecondChoice</th></tr>\n",
       "\t<tr><th></th><th scope=col>&lt;int&gt;</th><th scope=col>&lt;int&gt;</th><th scope=col>&lt;fct&gt;</th><th scope=col>&lt;dbl&gt;</th><th scope=col>&lt;fct&gt;</th><th scope=col>&lt;fct&gt;</th><th scope=col>&lt;fct&gt;</th><th scope=col>&lt;fct&gt;</th><th scope=col>&lt;fct&gt;</th><th scope=col>&lt;fct&gt;</th><th scope=col>&lt;fct&gt;</th><th scope=col>&lt;fct&gt;</th><th scope=col>&lt;dbl&gt;</th><th scope=col>&lt;int&gt;</th><th scope=col>&lt;int&gt;</th><th scope=col>&lt;dbl&gt;</th><th scope=col>&lt;dbl&gt;</th><th scope=col>&lt;int&gt;</th><th scope=col>&lt;int&gt;</th></tr>\n",
       "</thead>\n",
       "<tbody>\n",
       "\t<tr><th scope=row>1</th><td>1</td><td>56</td><td>College</td><td>79523.2</td><td>Female</td><td>Brooklyn</td><td>Online</td><td>Colgate  </td><td>Yes</td><td>Yes</td><td>No </td><td>No </td><td>4.8</td><td>1</td><td>0</td><td>0.92</td><td>4.42</td><td>0</td><td>NA</td></tr>\n",
       "\t<tr><th scope=row>2</th><td>1</td><td>56</td><td>College</td><td>79523.2</td><td>Female</td><td>Brooklyn</td><td>Online</td><td>Colgate  </td><td>Yes</td><td>No </td><td>Yes</td><td>No </td><td>3.9</td><td>0</td><td>1</td><td>0.96</td><td>3.74</td><td>1</td><td>NA</td></tr>\n",
       "\t<tr><th scope=row>3</th><td>1</td><td>56</td><td>College</td><td>79523.2</td><td>Female</td><td>Brooklyn</td><td>Online</td><td>Colgate  </td><td>No </td><td>Yes</td><td>Yes</td><td>Yes</td><td>3.9</td><td>1</td><td>0</td><td>1.04</td><td>4.06</td><td>0</td><td>NA</td></tr>\n",
       "\t<tr><th scope=row>4</th><td>1</td><td>56</td><td>College</td><td>79523.2</td><td>Female</td><td>Brooklyn</td><td>Online</td><td>Crest    </td><td>Yes</td><td>Yes</td><td>No </td><td>No </td><td>4.8</td><td>1</td><td>0</td><td>0.92</td><td>4.42</td><td>0</td><td>NA</td></tr>\n",
       "\t<tr><th scope=row>5</th><td>1</td><td>56</td><td>College</td><td>79523.2</td><td>Female</td><td>Brooklyn</td><td>Online</td><td>Crest    </td><td>No </td><td>No </td><td>Yes</td><td>Yes</td><td>4.8</td><td>1</td><td>0</td><td>1.01</td><td>4.85</td><td>0</td><td>NA</td></tr>\n",
       "\t<tr><th scope=row>6</th><td>1</td><td>56</td><td>College</td><td>79523.2</td><td>Female</td><td>Brooklyn</td><td>Online</td><td>Sensodyne</td><td>Yes</td><td>No </td><td>No </td><td>No </td><td>3.9</td><td>0</td><td>0</td><td>1.15</td><td>4.49</td><td>0</td><td>NA</td></tr>\n",
       "</tbody>\n",
       "</table>\n"
      ],
      "text/latex": [
       "A data.frame: 6 × 19\n",
       "\\begin{tabular}{r|lllllllllllllllllll}\n",
       "  & buyerid & age & education & inc & gender & location & purchase & brandid & mint & white & fluoride & kids & size & discount & familypack & priceperoz & priceperpack & Chosen & SecondChoice\\\\\n",
       "  & <int> & <int> & <fct> & <dbl> & <fct> & <fct> & <fct> & <fct> & <fct> & <fct> & <fct> & <fct> & <dbl> & <int> & <int> & <dbl> & <dbl> & <int> & <int>\\\\\n",
       "\\hline\n",
       "\t1 & 1 & 56 & College & 79523.2 & Female & Brooklyn & Online & Colgate   & Yes & Yes & No  & No  & 4.8 & 1 & 0 & 0.92 & 4.42 & 0 & NA\\\\\n",
       "\t2 & 1 & 56 & College & 79523.2 & Female & Brooklyn & Online & Colgate   & Yes & No  & Yes & No  & 3.9 & 0 & 1 & 0.96 & 3.74 & 1 & NA\\\\\n",
       "\t3 & 1 & 56 & College & 79523.2 & Female & Brooklyn & Online & Colgate   & No  & Yes & Yes & Yes & 3.9 & 1 & 0 & 1.04 & 4.06 & 0 & NA\\\\\n",
       "\t4 & 1 & 56 & College & 79523.2 & Female & Brooklyn & Online & Crest     & Yes & Yes & No  & No  & 4.8 & 1 & 0 & 0.92 & 4.42 & 0 & NA\\\\\n",
       "\t5 & 1 & 56 & College & 79523.2 & Female & Brooklyn & Online & Crest     & No  & No  & Yes & Yes & 4.8 & 1 & 0 & 1.01 & 4.85 & 0 & NA\\\\\n",
       "\t6 & 1 & 56 & College & 79523.2 & Female & Brooklyn & Online & Sensodyne & Yes & No  & No  & No  & 3.9 & 0 & 0 & 1.15 & 4.49 & 0 & NA\\\\\n",
       "\\end{tabular}\n"
      ],
      "text/markdown": [
       "\n",
       "A data.frame: 6 × 19\n",
       "\n",
       "| <!--/--> | buyerid &lt;int&gt; | age &lt;int&gt; | education &lt;fct&gt; | inc &lt;dbl&gt; | gender &lt;fct&gt; | location &lt;fct&gt; | purchase &lt;fct&gt; | brandid &lt;fct&gt; | mint &lt;fct&gt; | white &lt;fct&gt; | fluoride &lt;fct&gt; | kids &lt;fct&gt; | size &lt;dbl&gt; | discount &lt;int&gt; | familypack &lt;int&gt; | priceperoz &lt;dbl&gt; | priceperpack &lt;dbl&gt; | Chosen &lt;int&gt; | SecondChoice &lt;int&gt; |\n",
       "|---|---|---|---|---|---|---|---|---|---|---|---|---|---|---|---|---|---|---|---|\n",
       "| 1 | 1 | 56 | College | 79523.2 | Female | Brooklyn | Online | Colgate   | Yes | Yes | No  | No  | 4.8 | 1 | 0 | 0.92 | 4.42 | 0 | NA |\n",
       "| 2 | 1 | 56 | College | 79523.2 | Female | Brooklyn | Online | Colgate   | Yes | No  | Yes | No  | 3.9 | 0 | 1 | 0.96 | 3.74 | 1 | NA |\n",
       "| 3 | 1 | 56 | College | 79523.2 | Female | Brooklyn | Online | Colgate   | No  | Yes | Yes | Yes | 3.9 | 1 | 0 | 1.04 | 4.06 | 0 | NA |\n",
       "| 4 | 1 | 56 | College | 79523.2 | Female | Brooklyn | Online | Crest     | Yes | Yes | No  | No  | 4.8 | 1 | 0 | 0.92 | 4.42 | 0 | NA |\n",
       "| 5 | 1 | 56 | College | 79523.2 | Female | Brooklyn | Online | Crest     | No  | No  | Yes | Yes | 4.8 | 1 | 0 | 1.01 | 4.85 | 0 | NA |\n",
       "| 6 | 1 | 56 | College | 79523.2 | Female | Brooklyn | Online | Sensodyne | Yes | No  | No  | No  | 3.9 | 0 | 0 | 1.15 | 4.49 | 0 | NA |\n",
       "\n"
      ],
      "text/plain": [
       "  buyerid age education inc     gender location purchase brandid   mint white\n",
       "1 1       56  College   79523.2 Female Brooklyn Online   Colgate   Yes  Yes  \n",
       "2 1       56  College   79523.2 Female Brooklyn Online   Colgate   Yes  No   \n",
       "3 1       56  College   79523.2 Female Brooklyn Online   Colgate   No   Yes  \n",
       "4 1       56  College   79523.2 Female Brooklyn Online   Crest     Yes  Yes  \n",
       "5 1       56  College   79523.2 Female Brooklyn Online   Crest     No   No   \n",
       "6 1       56  College   79523.2 Female Brooklyn Online   Sensodyne Yes  No   \n",
       "  fluoride kids size discount familypack priceperoz priceperpack Chosen\n",
       "1 No       No   4.8  1        0          0.92       4.42         0     \n",
       "2 Yes      No   3.9  0        1          0.96       3.74         1     \n",
       "3 Yes      Yes  3.9  1        0          1.04       4.06         0     \n",
       "4 No       No   4.8  1        0          0.92       4.42         0     \n",
       "5 Yes      Yes  4.8  1        0          1.01       4.85         0     \n",
       "6 No       No   3.9  0        0          1.15       4.49         0     \n",
       "  SecondChoice\n",
       "1 NA          \n",
       "2 NA          \n",
       "3 NA          \n",
       "4 NA          \n",
       "5 NA          \n",
       "6 NA          "
      ]
     },
     "metadata": {},
     "output_type": "display_data"
    }
   ],
   "source": [
    "# Read and clean data\n",
    "data <- read.csv(\"shining32.csv\")\n",
    "data$education <- factor(data$education)\n",
    "col_names <- c(\"education\",\"gender\",\"location\",\"purchase\",\"brandid\",\"mint\",\"white\",\"fluoride\",\"kids\")\n",
    "data[col_names] <- lapply(data[col_names] , factor)\n",
    "head(data)"
   ]
  },
  {
   "cell_type": "markdown",
   "id": "6e0766a3",
   "metadata": {},
   "source": [
    "## Summary"
   ]
  },
  {
   "cell_type": "code",
   "execution_count": 45,
   "id": "65c18e47",
   "metadata": {},
   "outputs": [
    {
     "data": {
      "text/plain": [
       "    buyerid           age                    education          inc       \n",
       " Min.   :    1   Min.   :32.00   College          :73390   Min.   :42612  \n",
       " 1st Qu.: 2501   1st Qu.:46.00   High School      : 5900   1st Qu.:66360  \n",
       " Median : 5000   Median :49.00   More than College:20710   Median :70868  \n",
       " Mean   : 5000   Mean   :48.96                             Mean   :71104  \n",
       " 3rd Qu.: 7500   3rd Qu.:52.00                             3rd Qu.:75659  \n",
       " Max.   :10000   Max.   :66.00                             Max.   :97505  \n",
       "                                                                          \n",
       "    gender           location         purchase          brandid     \n",
       " Female:51310   Brooklyn :38270   In Store:56070   Aquafresh:30000  \n",
       " Male  :47650   Manhattan:51290   Online  :43930   Colgate  :30000  \n",
       " Other : 1040   Other    :  700                    Crest    :20000  \n",
       "                Queens   : 9740                    Sensodyne:20000  \n",
       "                                                                    \n",
       "                                                                    \n",
       "                                                                    \n",
       "  mint       white       fluoride     kids            size      \n",
       " No :50000   No :40000   No :50000   No :70000   Min.   :3.900  \n",
       " Yes:50000   Yes:60000   Yes:50000   Yes:30000   1st Qu.:3.900  \n",
       "                                                 Median :4.800  \n",
       "                                                 Mean   :4.443  \n",
       "                                                 3rd Qu.:4.800  \n",
       "                                                 Max.   :4.800  \n",
       "                                                                \n",
       "    discount        familypack       priceperoz     priceperpack  \n",
       " Min.   :0.0000   Min.   :0.0000   Min.   :0.850   Min.   :3.320  \n",
       " 1st Qu.:1.0000   1st Qu.:0.0000   1st Qu.:0.920   1st Qu.:4.020  \n",
       " Median :1.0000   Median :0.0000   Median :1.010   Median :4.420  \n",
       " Mean   :0.8002   Mean   :0.3012   Mean   :1.001   Mean   :4.451  \n",
       " 3rd Qu.:1.0000   3rd Qu.:1.0000   3rd Qu.:1.040   3rd Qu.:4.940  \n",
       " Max.   :1.0000   Max.   :1.0000   Max.   :1.330   Max.   :6.380  \n",
       "                                                                  \n",
       "     Chosen     SecondChoice  \n",
       " Min.   :0.0   Min.   :0.0    \n",
       " 1st Qu.:0.0   1st Qu.:0.0    \n",
       " Median :0.0   Median :0.0    \n",
       " Mean   :0.1   Mean   :0.1    \n",
       " 3rd Qu.:0.0   3rd Qu.:0.0    \n",
       " Max.   :1.0   Max.   :1.0    \n",
       "               NA's   :94890  "
      ]
     },
     "metadata": {},
     "output_type": "display_data"
    }
   ],
   "source": [
    "summary(data)"
   ]
  },
  {
   "cell_type": "markdown",
   "id": "182bc305",
   "metadata": {},
   "source": [
    "## Identifying products"
   ]
  },
  {
   "cell_type": "code",
   "execution_count": 46,
   "id": "81fbf2f2",
   "metadata": {},
   "outputs": [
    {
     "data": {
      "text/html": [
       "<table class=\"dataframe\">\n",
       "<caption>A data.frame: 10 × 5</caption>\n",
       "<thead>\n",
       "\t<tr><th></th><th scope=col>brandid</th><th scope=col>mint</th><th scope=col>white</th><th scope=col>fluoride</th><th scope=col>kids</th></tr>\n",
       "\t<tr><th></th><th scope=col>&lt;fct&gt;</th><th scope=col>&lt;fct&gt;</th><th scope=col>&lt;fct&gt;</th><th scope=col>&lt;fct&gt;</th><th scope=col>&lt;fct&gt;</th></tr>\n",
       "</thead>\n",
       "<tbody>\n",
       "\t<tr><th scope=row>1</th><td>Colgate  </td><td>Yes</td><td>Yes</td><td>No </td><td>No </td></tr>\n",
       "\t<tr><th scope=row>2</th><td>Colgate  </td><td>Yes</td><td>No </td><td>Yes</td><td>No </td></tr>\n",
       "\t<tr><th scope=row>3</th><td>Colgate  </td><td>No </td><td>Yes</td><td>Yes</td><td>Yes</td></tr>\n",
       "\t<tr><th scope=row>4</th><td>Crest    </td><td>Yes</td><td>Yes</td><td>No </td><td>No </td></tr>\n",
       "\t<tr><th scope=row>5</th><td>Crest    </td><td>No </td><td>No </td><td>Yes</td><td>Yes</td></tr>\n",
       "\t<tr><th scope=row>6</th><td>Sensodyne</td><td>Yes</td><td>No </td><td>No </td><td>No </td></tr>\n",
       "\t<tr><th scope=row>7</th><td>Sensodyne</td><td>No </td><td>Yes</td><td>Yes</td><td>No </td></tr>\n",
       "\t<tr><th scope=row>8</th><td>Aquafresh</td><td>Yes</td><td>No </td><td>Yes</td><td>No </td></tr>\n",
       "\t<tr><th scope=row>9</th><td>Aquafresh</td><td>No </td><td>Yes</td><td>No </td><td>Yes</td></tr>\n",
       "\t<tr><th scope=row>10</th><td>Aquafresh</td><td>No </td><td>Yes</td><td>No </td><td>No </td></tr>\n",
       "</tbody>\n",
       "</table>\n"
      ],
      "text/latex": [
       "A data.frame: 10 × 5\n",
       "\\begin{tabular}{r|lllll}\n",
       "  & brandid & mint & white & fluoride & kids\\\\\n",
       "  & <fct> & <fct> & <fct> & <fct> & <fct>\\\\\n",
       "\\hline\n",
       "\t1 & Colgate   & Yes & Yes & No  & No \\\\\n",
       "\t2 & Colgate   & Yes & No  & Yes & No \\\\\n",
       "\t3 & Colgate   & No  & Yes & Yes & Yes\\\\\n",
       "\t4 & Crest     & Yes & Yes & No  & No \\\\\n",
       "\t5 & Crest     & No  & No  & Yes & Yes\\\\\n",
       "\t6 & Sensodyne & Yes & No  & No  & No \\\\\n",
       "\t7 & Sensodyne & No  & Yes & Yes & No \\\\\n",
       "\t8 & Aquafresh & Yes & No  & Yes & No \\\\\n",
       "\t9 & Aquafresh & No  & Yes & No  & Yes\\\\\n",
       "\t10 & Aquafresh & No  & Yes & No  & No \\\\\n",
       "\\end{tabular}\n"
      ],
      "text/markdown": [
       "\n",
       "A data.frame: 10 × 5\n",
       "\n",
       "| <!--/--> | brandid &lt;fct&gt; | mint &lt;fct&gt; | white &lt;fct&gt; | fluoride &lt;fct&gt; | kids &lt;fct&gt; |\n",
       "|---|---|---|---|---|---|\n",
       "| 1 | Colgate   | Yes | Yes | No  | No  |\n",
       "| 2 | Colgate   | Yes | No  | Yes | No  |\n",
       "| 3 | Colgate   | No  | Yes | Yes | Yes |\n",
       "| 4 | Crest     | Yes | Yes | No  | No  |\n",
       "| 5 | Crest     | No  | No  | Yes | Yes |\n",
       "| 6 | Sensodyne | Yes | No  | No  | No  |\n",
       "| 7 | Sensodyne | No  | Yes | Yes | No  |\n",
       "| 8 | Aquafresh | Yes | No  | Yes | No  |\n",
       "| 9 | Aquafresh | No  | Yes | No  | Yes |\n",
       "| 10 | Aquafresh | No  | Yes | No  | No  |\n",
       "\n"
      ],
      "text/plain": [
       "   brandid   mint white fluoride kids\n",
       "1  Colgate   Yes  Yes   No       No  \n",
       "2  Colgate   Yes  No    Yes      No  \n",
       "3  Colgate   No   Yes   Yes      Yes \n",
       "4  Crest     Yes  Yes   No       No  \n",
       "5  Crest     No   No    Yes      Yes \n",
       "6  Sensodyne Yes  No    No       No  \n",
       "7  Sensodyne No   Yes   Yes      No  \n",
       "8  Aquafresh Yes  No    Yes      No  \n",
       "9  Aquafresh No   Yes   No       Yes \n",
       "10 Aquafresh No   Yes   No       No  "
      ]
     },
     "metadata": {},
     "output_type": "display_data"
    }
   ],
   "source": [
    "productCharacteristics <- unique(data[,c(\"brandid\",\"mint\",\"white\",\"fluoride\",\"kids\")])\n",
    "productCharacteristics"
   ]
  },
  {
   "cell_type": "code",
   "execution_count": 47,
   "id": "e42aff0c",
   "metadata": {},
   "outputs": [
    {
     "data": {
      "text/html": [
       "<table class=\"dataframe\">\n",
       "<caption>A data.frame: 12 × 20</caption>\n",
       "<thead>\n",
       "\t<tr><th></th><th scope=col>buyerid</th><th scope=col>age</th><th scope=col>education</th><th scope=col>inc</th><th scope=col>gender</th><th scope=col>location</th><th scope=col>purchase</th><th scope=col>brandid</th><th scope=col>mint</th><th scope=col>white</th><th scope=col>fluoride</th><th scope=col>kids</th><th scope=col>size</th><th scope=col>discount</th><th scope=col>familypack</th><th scope=col>priceperoz</th><th scope=col>priceperpack</th><th scope=col>Chosen</th><th scope=col>SecondChoice</th><th scope=col>productId</th></tr>\n",
       "\t<tr><th></th><th scope=col>&lt;int&gt;</th><th scope=col>&lt;int&gt;</th><th scope=col>&lt;fct&gt;</th><th scope=col>&lt;dbl&gt;</th><th scope=col>&lt;fct&gt;</th><th scope=col>&lt;fct&gt;</th><th scope=col>&lt;fct&gt;</th><th scope=col>&lt;fct&gt;</th><th scope=col>&lt;fct&gt;</th><th scope=col>&lt;fct&gt;</th><th scope=col>&lt;fct&gt;</th><th scope=col>&lt;fct&gt;</th><th scope=col>&lt;dbl&gt;</th><th scope=col>&lt;int&gt;</th><th scope=col>&lt;int&gt;</th><th scope=col>&lt;dbl&gt;</th><th scope=col>&lt;dbl&gt;</th><th scope=col>&lt;int&gt;</th><th scope=col>&lt;int&gt;</th><th scope=col>&lt;fct&gt;</th></tr>\n",
       "</thead>\n",
       "<tbody>\n",
       "\t<tr><th scope=row>1</th><td>1</td><td>56</td><td>College</td><td>79523.20</td><td>Female</td><td>Brooklyn </td><td>Online  </td><td>Colgate  </td><td>Yes</td><td>Yes</td><td>No </td><td>No </td><td>4.8</td><td>1</td><td>0</td><td>0.92</td><td>4.42</td><td>0</td><td>NA</td><td>1 </td></tr>\n",
       "\t<tr><th scope=row>2</th><td>1</td><td>56</td><td>College</td><td>79523.20</td><td>Female</td><td>Brooklyn </td><td>Online  </td><td>Colgate  </td><td>Yes</td><td>No </td><td>Yes</td><td>No </td><td>3.9</td><td>0</td><td>1</td><td>0.96</td><td>3.74</td><td>1</td><td>NA</td><td>2 </td></tr>\n",
       "\t<tr><th scope=row>3</th><td>1</td><td>56</td><td>College</td><td>79523.20</td><td>Female</td><td>Brooklyn </td><td>Online  </td><td>Colgate  </td><td>No </td><td>Yes</td><td>Yes</td><td>Yes</td><td>3.9</td><td>1</td><td>0</td><td>1.04</td><td>4.06</td><td>0</td><td>NA</td><td>3 </td></tr>\n",
       "\t<tr><th scope=row>4</th><td>1</td><td>56</td><td>College</td><td>79523.20</td><td>Female</td><td>Brooklyn </td><td>Online  </td><td>Crest    </td><td>Yes</td><td>Yes</td><td>No </td><td>No </td><td>4.8</td><td>1</td><td>0</td><td>0.92</td><td>4.42</td><td>0</td><td>NA</td><td>4 </td></tr>\n",
       "\t<tr><th scope=row>5</th><td>1</td><td>56</td><td>College</td><td>79523.20</td><td>Female</td><td>Brooklyn </td><td>Online  </td><td>Crest    </td><td>No </td><td>No </td><td>Yes</td><td>Yes</td><td>4.8</td><td>1</td><td>0</td><td>1.01</td><td>4.85</td><td>0</td><td>NA</td><td>5 </td></tr>\n",
       "\t<tr><th scope=row>6</th><td>1</td><td>56</td><td>College</td><td>79523.20</td><td>Female</td><td>Brooklyn </td><td>Online  </td><td>Sensodyne</td><td>Yes</td><td>No </td><td>No </td><td>No </td><td>3.9</td><td>0</td><td>0</td><td>1.15</td><td>4.49</td><td>0</td><td>NA</td><td>6 </td></tr>\n",
       "\t<tr><th scope=row>7</th><td>1</td><td>56</td><td>College</td><td>79523.20</td><td>Female</td><td>Brooklyn </td><td>Online  </td><td>Sensodyne</td><td>No </td><td>Yes</td><td>Yes</td><td>No </td><td>3.9</td><td>1</td><td>0</td><td>1.09</td><td>4.25</td><td>0</td><td>NA</td><td>7 </td></tr>\n",
       "\t<tr><th scope=row>8</th><td>1</td><td>56</td><td>College</td><td>79523.20</td><td>Female</td><td>Brooklyn </td><td>Online  </td><td>Aquafresh</td><td>Yes</td><td>No </td><td>Yes</td><td>No </td><td>3.9</td><td>1</td><td>1</td><td>0.85</td><td>3.32</td><td>0</td><td>NA</td><td>8 </td></tr>\n",
       "\t<tr><th scope=row>9</th><td>1</td><td>56</td><td>College</td><td>79523.20</td><td>Female</td><td>Brooklyn </td><td>Online  </td><td>Aquafresh</td><td>No </td><td>Yes</td><td>No </td><td>Yes</td><td>3.9</td><td>1</td><td>1</td><td>0.96</td><td>3.74</td><td>0</td><td>NA</td><td>9 </td></tr>\n",
       "\t<tr><th scope=row>10</th><td>1</td><td>56</td><td>College</td><td>79523.20</td><td>Female</td><td>Brooklyn </td><td>Online  </td><td>Aquafresh</td><td>No </td><td>Yes</td><td>No </td><td>No </td><td>4.8</td><td>0</td><td>0</td><td>1.03</td><td>4.94</td><td>0</td><td>NA</td><td>10</td></tr>\n",
       "\t<tr><th scope=row>11</th><td>2</td><td>50</td><td>College</td><td>64392.95</td><td>Male  </td><td>Manhattan</td><td>In Store</td><td>Colgate  </td><td>Yes</td><td>Yes</td><td>No </td><td>No </td><td>3.9</td><td>0</td><td>0</td><td>1.03</td><td>4.02</td><td>0</td><td> 1</td><td>1 </td></tr>\n",
       "\t<tr><th scope=row>12</th><td>2</td><td>50</td><td>College</td><td>64392.95</td><td>Male  </td><td>Manhattan</td><td>In Store</td><td>Colgate  </td><td>Yes</td><td>No </td><td>Yes</td><td>No </td><td>4.8</td><td>1</td><td>0</td><td>0.91</td><td>4.37</td><td>0</td><td> 0</td><td>2 </td></tr>\n",
       "</tbody>\n",
       "</table>\n"
      ],
      "text/latex": [
       "A data.frame: 12 × 20\n",
       "\\begin{tabular}{r|llllllllllllllllllll}\n",
       "  & buyerid & age & education & inc & gender & location & purchase & brandid & mint & white & fluoride & kids & size & discount & familypack & priceperoz & priceperpack & Chosen & SecondChoice & productId\\\\\n",
       "  & <int> & <int> & <fct> & <dbl> & <fct> & <fct> & <fct> & <fct> & <fct> & <fct> & <fct> & <fct> & <dbl> & <int> & <int> & <dbl> & <dbl> & <int> & <int> & <fct>\\\\\n",
       "\\hline\n",
       "\t1 & 1 & 56 & College & 79523.20 & Female & Brooklyn  & Online   & Colgate   & Yes & Yes & No  & No  & 4.8 & 1 & 0 & 0.92 & 4.42 & 0 & NA & 1 \\\\\n",
       "\t2 & 1 & 56 & College & 79523.20 & Female & Brooklyn  & Online   & Colgate   & Yes & No  & Yes & No  & 3.9 & 0 & 1 & 0.96 & 3.74 & 1 & NA & 2 \\\\\n",
       "\t3 & 1 & 56 & College & 79523.20 & Female & Brooklyn  & Online   & Colgate   & No  & Yes & Yes & Yes & 3.9 & 1 & 0 & 1.04 & 4.06 & 0 & NA & 3 \\\\\n",
       "\t4 & 1 & 56 & College & 79523.20 & Female & Brooklyn  & Online   & Crest     & Yes & Yes & No  & No  & 4.8 & 1 & 0 & 0.92 & 4.42 & 0 & NA & 4 \\\\\n",
       "\t5 & 1 & 56 & College & 79523.20 & Female & Brooklyn  & Online   & Crest     & No  & No  & Yes & Yes & 4.8 & 1 & 0 & 1.01 & 4.85 & 0 & NA & 5 \\\\\n",
       "\t6 & 1 & 56 & College & 79523.20 & Female & Brooklyn  & Online   & Sensodyne & Yes & No  & No  & No  & 3.9 & 0 & 0 & 1.15 & 4.49 & 0 & NA & 6 \\\\\n",
       "\t7 & 1 & 56 & College & 79523.20 & Female & Brooklyn  & Online   & Sensodyne & No  & Yes & Yes & No  & 3.9 & 1 & 0 & 1.09 & 4.25 & 0 & NA & 7 \\\\\n",
       "\t8 & 1 & 56 & College & 79523.20 & Female & Brooklyn  & Online   & Aquafresh & Yes & No  & Yes & No  & 3.9 & 1 & 1 & 0.85 & 3.32 & 0 & NA & 8 \\\\\n",
       "\t9 & 1 & 56 & College & 79523.20 & Female & Brooklyn  & Online   & Aquafresh & No  & Yes & No  & Yes & 3.9 & 1 & 1 & 0.96 & 3.74 & 0 & NA & 9 \\\\\n",
       "\t10 & 1 & 56 & College & 79523.20 & Female & Brooklyn  & Online   & Aquafresh & No  & Yes & No  & No  & 4.8 & 0 & 0 & 1.03 & 4.94 & 0 & NA & 10\\\\\n",
       "\t11 & 2 & 50 & College & 64392.95 & Male   & Manhattan & In Store & Colgate   & Yes & Yes & No  & No  & 3.9 & 0 & 0 & 1.03 & 4.02 & 0 &  1 & 1 \\\\\n",
       "\t12 & 2 & 50 & College & 64392.95 & Male   & Manhattan & In Store & Colgate   & Yes & No  & Yes & No  & 4.8 & 1 & 0 & 0.91 & 4.37 & 0 &  0 & 2 \\\\\n",
       "\\end{tabular}\n"
      ],
      "text/markdown": [
       "\n",
       "A data.frame: 12 × 20\n",
       "\n",
       "| <!--/--> | buyerid &lt;int&gt; | age &lt;int&gt; | education &lt;fct&gt; | inc &lt;dbl&gt; | gender &lt;fct&gt; | location &lt;fct&gt; | purchase &lt;fct&gt; | brandid &lt;fct&gt; | mint &lt;fct&gt; | white &lt;fct&gt; | fluoride &lt;fct&gt; | kids &lt;fct&gt; | size &lt;dbl&gt; | discount &lt;int&gt; | familypack &lt;int&gt; | priceperoz &lt;dbl&gt; | priceperpack &lt;dbl&gt; | Chosen &lt;int&gt; | SecondChoice &lt;int&gt; | productId &lt;fct&gt; |\n",
       "|---|---|---|---|---|---|---|---|---|---|---|---|---|---|---|---|---|---|---|---|---|\n",
       "| 1 | 1 | 56 | College | 79523.20 | Female | Brooklyn  | Online   | Colgate   | Yes | Yes | No  | No  | 4.8 | 1 | 0 | 0.92 | 4.42 | 0 | NA | 1  |\n",
       "| 2 | 1 | 56 | College | 79523.20 | Female | Brooklyn  | Online   | Colgate   | Yes | No  | Yes | No  | 3.9 | 0 | 1 | 0.96 | 3.74 | 1 | NA | 2  |\n",
       "| 3 | 1 | 56 | College | 79523.20 | Female | Brooklyn  | Online   | Colgate   | No  | Yes | Yes | Yes | 3.9 | 1 | 0 | 1.04 | 4.06 | 0 | NA | 3  |\n",
       "| 4 | 1 | 56 | College | 79523.20 | Female | Brooklyn  | Online   | Crest     | Yes | Yes | No  | No  | 4.8 | 1 | 0 | 0.92 | 4.42 | 0 | NA | 4  |\n",
       "| 5 | 1 | 56 | College | 79523.20 | Female | Brooklyn  | Online   | Crest     | No  | No  | Yes | Yes | 4.8 | 1 | 0 | 1.01 | 4.85 | 0 | NA | 5  |\n",
       "| 6 | 1 | 56 | College | 79523.20 | Female | Brooklyn  | Online   | Sensodyne | Yes | No  | No  | No  | 3.9 | 0 | 0 | 1.15 | 4.49 | 0 | NA | 6  |\n",
       "| 7 | 1 | 56 | College | 79523.20 | Female | Brooklyn  | Online   | Sensodyne | No  | Yes | Yes | No  | 3.9 | 1 | 0 | 1.09 | 4.25 | 0 | NA | 7  |\n",
       "| 8 | 1 | 56 | College | 79523.20 | Female | Brooklyn  | Online   | Aquafresh | Yes | No  | Yes | No  | 3.9 | 1 | 1 | 0.85 | 3.32 | 0 | NA | 8  |\n",
       "| 9 | 1 | 56 | College | 79523.20 | Female | Brooklyn  | Online   | Aquafresh | No  | Yes | No  | Yes | 3.9 | 1 | 1 | 0.96 | 3.74 | 0 | NA | 9  |\n",
       "| 10 | 1 | 56 | College | 79523.20 | Female | Brooklyn  | Online   | Aquafresh | No  | Yes | No  | No  | 4.8 | 0 | 0 | 1.03 | 4.94 | 0 | NA | 10 |\n",
       "| 11 | 2 | 50 | College | 64392.95 | Male   | Manhattan | In Store | Colgate   | Yes | Yes | No  | No  | 3.9 | 0 | 0 | 1.03 | 4.02 | 0 |  1 | 1  |\n",
       "| 12 | 2 | 50 | College | 64392.95 | Male   | Manhattan | In Store | Colgate   | Yes | No  | Yes | No  | 4.8 | 1 | 0 | 0.91 | 4.37 | 0 |  0 | 2  |\n",
       "\n"
      ],
      "text/plain": [
       "   buyerid age education inc      gender location  purchase brandid   mint\n",
       "1  1       56  College   79523.20 Female Brooklyn  Online   Colgate   Yes \n",
       "2  1       56  College   79523.20 Female Brooklyn  Online   Colgate   Yes \n",
       "3  1       56  College   79523.20 Female Brooklyn  Online   Colgate   No  \n",
       "4  1       56  College   79523.20 Female Brooklyn  Online   Crest     Yes \n",
       "5  1       56  College   79523.20 Female Brooklyn  Online   Crest     No  \n",
       "6  1       56  College   79523.20 Female Brooklyn  Online   Sensodyne Yes \n",
       "7  1       56  College   79523.20 Female Brooklyn  Online   Sensodyne No  \n",
       "8  1       56  College   79523.20 Female Brooklyn  Online   Aquafresh Yes \n",
       "9  1       56  College   79523.20 Female Brooklyn  Online   Aquafresh No  \n",
       "10 1       56  College   79523.20 Female Brooklyn  Online   Aquafresh No  \n",
       "11 2       50  College   64392.95 Male   Manhattan In Store Colgate   Yes \n",
       "12 2       50  College   64392.95 Male   Manhattan In Store Colgate   Yes \n",
       "   white fluoride kids size discount familypack priceperoz priceperpack Chosen\n",
       "1  Yes   No       No   4.8  1        0          0.92       4.42         0     \n",
       "2  No    Yes      No   3.9  0        1          0.96       3.74         1     \n",
       "3  Yes   Yes      Yes  3.9  1        0          1.04       4.06         0     \n",
       "4  Yes   No       No   4.8  1        0          0.92       4.42         0     \n",
       "5  No    Yes      Yes  4.8  1        0          1.01       4.85         0     \n",
       "6  No    No       No   3.9  0        0          1.15       4.49         0     \n",
       "7  Yes   Yes      No   3.9  1        0          1.09       4.25         0     \n",
       "8  No    Yes      No   3.9  1        1          0.85       3.32         0     \n",
       "9  Yes   No       Yes  3.9  1        1          0.96       3.74         0     \n",
       "10 Yes   No       No   4.8  0        0          1.03       4.94         0     \n",
       "11 Yes   No       No   3.9  0        0          1.03       4.02         0     \n",
       "12 No    Yes      No   4.8  1        0          0.91       4.37         0     \n",
       "   SecondChoice productId\n",
       "1  NA           1        \n",
       "2  NA           2        \n",
       "3  NA           3        \n",
       "4  NA           4        \n",
       "5  NA           5        \n",
       "6  NA           6        \n",
       "7  NA           7        \n",
       "8  NA           8        \n",
       "9  NA           9        \n",
       "10 NA           10       \n",
       "11  1           1        \n",
       "12  0           2        "
      ]
     },
     "metadata": {},
     "output_type": "display_data"
    }
   ],
   "source": [
    "data$productId <-0\n",
    "for (i in 1:10){\n",
    "    data$productId[data$brandid == productCharacteristics[i,1] &\n",
    "                     data$mint        == productCharacteristics[i,2] &\n",
    "                     data$white       == productCharacteristics[i,3] &\n",
    "                     data$fluoride    == productCharacteristics[i,4] &\n",
    "                     data$kids        == productCharacteristics[i,5]\n",
    "                    ] <- i\n",
    "}\n",
    "\n",
    "data$productId <- as.factor(data$productId)\n",
    "head(data,12)"
   ]
  },
  {
   "cell_type": "markdown",
   "id": "5f07061d",
   "metadata": {},
   "source": [
    "## Codify categorical variables"
   ]
  },
  {
   "cell_type": "code",
   "execution_count": 79,
   "id": "ef6dd0ee",
   "metadata": {},
   "outputs": [
    {
     "data": {
      "text/html": [
       "<table class=\"dataframe\">\n",
       "<caption>A data.frame: 6 × 60</caption>\n",
       "<thead>\n",
       "\t<tr><th></th><th scope=col>buyerid</th><th scope=col>age</th><th scope=col>education</th><th scope=col>inc</th><th scope=col>gender</th><th scope=col>location</th><th scope=col>purchase</th><th scope=col>brandid</th><th scope=col>mint</th><th scope=col>white</th><th scope=col>⋯</th><th scope=col>income.low</th><th scope=col>income.med</th><th scope=col>income.high</th><th scope=col>age.below40</th><th scope=col>age.below45</th><th scope=col>age.below50</th><th scope=col>age.below55</th><th scope=col>age.above55</th><th scope=col>income.cat</th><th scope=col>age.cat</th></tr>\n",
       "\t<tr><th></th><th scope=col>&lt;int&gt;</th><th scope=col>&lt;int&gt;</th><th scope=col>&lt;fct&gt;</th><th scope=col>&lt;dbl&gt;</th><th scope=col>&lt;fct&gt;</th><th scope=col>&lt;fct&gt;</th><th scope=col>&lt;fct&gt;</th><th scope=col>&lt;fct&gt;</th><th scope=col>&lt;fct&gt;</th><th scope=col>&lt;fct&gt;</th><th scope=col>⋯</th><th scope=col>&lt;dbl&gt;</th><th scope=col>&lt;dbl&gt;</th><th scope=col>&lt;dbl&gt;</th><th scope=col>&lt;dbl&gt;</th><th scope=col>&lt;dbl&gt;</th><th scope=col>&lt;dbl&gt;</th><th scope=col>&lt;dbl&gt;</th><th scope=col>&lt;dbl&gt;</th><th scope=col>&lt;fct&gt;</th><th scope=col>&lt;fct&gt;</th></tr>\n",
       "</thead>\n",
       "<tbody>\n",
       "\t<tr><th scope=row>1</th><td>1</td><td>56</td><td>College</td><td>79523.2</td><td>Female</td><td>Brooklyn</td><td>Online</td><td>Colgate  </td><td>Yes</td><td>Yes</td><td>⋯</td><td>0</td><td>0</td><td>1</td><td>0</td><td>0</td><td>0</td><td>0</td><td>1</td><td>high</td><td>above 55</td></tr>\n",
       "\t<tr><th scope=row>2</th><td>1</td><td>56</td><td>College</td><td>79523.2</td><td>Female</td><td>Brooklyn</td><td>Online</td><td>Colgate  </td><td>Yes</td><td>No </td><td>⋯</td><td>0</td><td>0</td><td>1</td><td>0</td><td>0</td><td>0</td><td>0</td><td>1</td><td>high</td><td>above 55</td></tr>\n",
       "\t<tr><th scope=row>3</th><td>1</td><td>56</td><td>College</td><td>79523.2</td><td>Female</td><td>Brooklyn</td><td>Online</td><td>Colgate  </td><td>No </td><td>Yes</td><td>⋯</td><td>0</td><td>0</td><td>1</td><td>0</td><td>0</td><td>0</td><td>0</td><td>1</td><td>high</td><td>above 55</td></tr>\n",
       "\t<tr><th scope=row>4</th><td>1</td><td>56</td><td>College</td><td>79523.2</td><td>Female</td><td>Brooklyn</td><td>Online</td><td>Crest    </td><td>Yes</td><td>Yes</td><td>⋯</td><td>0</td><td>0</td><td>1</td><td>0</td><td>0</td><td>0</td><td>0</td><td>1</td><td>high</td><td>above 55</td></tr>\n",
       "\t<tr><th scope=row>5</th><td>1</td><td>56</td><td>College</td><td>79523.2</td><td>Female</td><td>Brooklyn</td><td>Online</td><td>Crest    </td><td>No </td><td>No </td><td>⋯</td><td>0</td><td>0</td><td>1</td><td>0</td><td>0</td><td>0</td><td>0</td><td>1</td><td>high</td><td>above 55</td></tr>\n",
       "\t<tr><th scope=row>6</th><td>1</td><td>56</td><td>College</td><td>79523.2</td><td>Female</td><td>Brooklyn</td><td>Online</td><td>Sensodyne</td><td>Yes</td><td>No </td><td>⋯</td><td>0</td><td>0</td><td>1</td><td>0</td><td>0</td><td>0</td><td>0</td><td>1</td><td>high</td><td>above 55</td></tr>\n",
       "</tbody>\n",
       "</table>\n"
      ],
      "text/latex": [
       "A data.frame: 6 × 60\n",
       "\\begin{tabular}{r|lllllllllllllllllllll}\n",
       "  & buyerid & age & education & inc & gender & location & purchase & brandid & mint & white & ⋯ & income.low & income.med & income.high & age.below40 & age.below45 & age.below50 & age.below55 & age.above55 & income.cat & age.cat\\\\\n",
       "  & <int> & <int> & <fct> & <dbl> & <fct> & <fct> & <fct> & <fct> & <fct> & <fct> & ⋯ & <dbl> & <dbl> & <dbl> & <dbl> & <dbl> & <dbl> & <dbl> & <dbl> & <fct> & <fct>\\\\\n",
       "\\hline\n",
       "\t1 & 1 & 56 & College & 79523.2 & Female & Brooklyn & Online & Colgate   & Yes & Yes & ⋯ & 0 & 0 & 1 & 0 & 0 & 0 & 0 & 1 & high & above 55\\\\\n",
       "\t2 & 1 & 56 & College & 79523.2 & Female & Brooklyn & Online & Colgate   & Yes & No  & ⋯ & 0 & 0 & 1 & 0 & 0 & 0 & 0 & 1 & high & above 55\\\\\n",
       "\t3 & 1 & 56 & College & 79523.2 & Female & Brooklyn & Online & Colgate   & No  & Yes & ⋯ & 0 & 0 & 1 & 0 & 0 & 0 & 0 & 1 & high & above 55\\\\\n",
       "\t4 & 1 & 56 & College & 79523.2 & Female & Brooklyn & Online & Crest     & Yes & Yes & ⋯ & 0 & 0 & 1 & 0 & 0 & 0 & 0 & 1 & high & above 55\\\\\n",
       "\t5 & 1 & 56 & College & 79523.2 & Female & Brooklyn & Online & Crest     & No  & No  & ⋯ & 0 & 0 & 1 & 0 & 0 & 0 & 0 & 1 & high & above 55\\\\\n",
       "\t6 & 1 & 56 & College & 79523.2 & Female & Brooklyn & Online & Sensodyne & Yes & No  & ⋯ & 0 & 0 & 1 & 0 & 0 & 0 & 0 & 1 & high & above 55\\\\\n",
       "\\end{tabular}\n"
      ],
      "text/markdown": [
       "\n",
       "A data.frame: 6 × 60\n",
       "\n",
       "| <!--/--> | buyerid &lt;int&gt; | age &lt;int&gt; | education &lt;fct&gt; | inc &lt;dbl&gt; | gender &lt;fct&gt; | location &lt;fct&gt; | purchase &lt;fct&gt; | brandid &lt;fct&gt; | mint &lt;fct&gt; | white &lt;fct&gt; | ⋯ ⋯ | income.low &lt;dbl&gt; | income.med &lt;dbl&gt; | income.high &lt;dbl&gt; | age.below40 &lt;dbl&gt; | age.below45 &lt;dbl&gt; | age.below50 &lt;dbl&gt; | age.below55 &lt;dbl&gt; | age.above55 &lt;dbl&gt; | income.cat &lt;fct&gt; | age.cat &lt;fct&gt; |\n",
       "|---|---|---|---|---|---|---|---|---|---|---|---|---|---|---|---|---|---|---|---|---|---|\n",
       "| 1 | 1 | 56 | College | 79523.2 | Female | Brooklyn | Online | Colgate   | Yes | Yes | ⋯ | 0 | 0 | 1 | 0 | 0 | 0 | 0 | 1 | high | above 55 |\n",
       "| 2 | 1 | 56 | College | 79523.2 | Female | Brooklyn | Online | Colgate   | Yes | No  | ⋯ | 0 | 0 | 1 | 0 | 0 | 0 | 0 | 1 | high | above 55 |\n",
       "| 3 | 1 | 56 | College | 79523.2 | Female | Brooklyn | Online | Colgate   | No  | Yes | ⋯ | 0 | 0 | 1 | 0 | 0 | 0 | 0 | 1 | high | above 55 |\n",
       "| 4 | 1 | 56 | College | 79523.2 | Female | Brooklyn | Online | Crest     | Yes | Yes | ⋯ | 0 | 0 | 1 | 0 | 0 | 0 | 0 | 1 | high | above 55 |\n",
       "| 5 | 1 | 56 | College | 79523.2 | Female | Brooklyn | Online | Crest     | No  | No  | ⋯ | 0 | 0 | 1 | 0 | 0 | 0 | 0 | 1 | high | above 55 |\n",
       "| 6 | 1 | 56 | College | 79523.2 | Female | Brooklyn | Online | Sensodyne | Yes | No  | ⋯ | 0 | 0 | 1 | 0 | 0 | 0 | 0 | 1 | high | above 55 |\n",
       "\n"
      ],
      "text/plain": [
       "  buyerid age education inc     gender location purchase brandid   mint white\n",
       "1 1       56  College   79523.2 Female Brooklyn Online   Colgate   Yes  Yes  \n",
       "2 1       56  College   79523.2 Female Brooklyn Online   Colgate   Yes  No   \n",
       "3 1       56  College   79523.2 Female Brooklyn Online   Colgate   No   Yes  \n",
       "4 1       56  College   79523.2 Female Brooklyn Online   Crest     Yes  Yes  \n",
       "5 1       56  College   79523.2 Female Brooklyn Online   Crest     No   No   \n",
       "6 1       56  College   79523.2 Female Brooklyn Online   Sensodyne Yes  No   \n",
       "  <U+22EF>        income.low income.med income.high age.below40 age.below45\n",
       "1 <U+22EF> 0          0          1           0           0          \n",
       "2 <U+22EF> 0          0          1           0           0          \n",
       "3 <U+22EF> 0          0          1           0           0          \n",
       "4 <U+22EF> 0          0          1           0           0          \n",
       "5 <U+22EF> 0          0          1           0           0          \n",
       "6 <U+22EF> 0          0          1           0           0          \n",
       "  age.below50 age.below55 age.above55 income.cat age.cat \n",
       "1 0           0           1           high       above 55\n",
       "2 0           0           1           high       above 55\n",
       "3 0           0           1           high       above 55\n",
       "4 0           0           1           high       above 55\n",
       "5 0           0           1           high       above 55\n",
       "6 0           0           1           high       above 55"
      ]
     },
     "metadata": {},
     "output_type": "display_data"
    },
    {
     "data": {
      "text/plain": [
       "    buyerid           age                    education          inc       \n",
       " Min.   :    1   Min.   :32.00   College          :73390   Min.   :42612  \n",
       " 1st Qu.: 2501   1st Qu.:46.00   High School      : 5900   1st Qu.:66360  \n",
       " Median : 5000   Median :49.00   More than College:20710   Median :70868  \n",
       " Mean   : 5000   Mean   :48.96                             Mean   :71104  \n",
       " 3rd Qu.: 7500   3rd Qu.:52.00                             3rd Qu.:75659  \n",
       " Max.   :10000   Max.   :66.00                             Max.   :97505  \n",
       "                                                                          \n",
       "    gender           location         purchase          brandid     \n",
       " Female:51310   Brooklyn :38270   In Store:56070   Aquafresh:30000  \n",
       " Male  :47650   Manhattan:51290   Online  :43930   Colgate  :30000  \n",
       " Other : 1040   Other    :  700                    Crest    :20000  \n",
       "                Queens   : 9740                    Sensodyne:20000  \n",
       "                                                                    \n",
       "                                                                    \n",
       "                                                                    \n",
       "  mint       white       fluoride     kids            size      \n",
       " No :50000   No :40000   No :50000   No :70000   Min.   :3.900  \n",
       " Yes:50000   Yes:60000   Yes:50000   Yes:30000   1st Qu.:3.900  \n",
       "                                                 Median :4.800  \n",
       "                                                 Mean   :4.443  \n",
       "                                                 3rd Qu.:4.800  \n",
       "                                                 Max.   :4.800  \n",
       "                                                                \n",
       "    discount        familypack       priceperoz     priceperpack  \n",
       " Min.   :0.0000   Min.   :0.0000   Min.   :0.850   Min.   :3.320  \n",
       " 1st Qu.:1.0000   1st Qu.:0.0000   1st Qu.:0.920   1st Qu.:4.020  \n",
       " Median :1.0000   Median :0.0000   Median :1.010   Median :4.420  \n",
       " Mean   :0.8002   Mean   :0.3012   Mean   :1.001   Mean   :4.451  \n",
       " 3rd Qu.:1.0000   3rd Qu.:1.0000   3rd Qu.:1.040   3rd Qu.:4.940  \n",
       " Max.   :1.0000   Max.   :1.0000   Max.   :1.330   Max.   :6.380  \n",
       "                                                                  \n",
       "     Chosen     SecondChoice     productId     educ.highschool  educ.college   \n",
       " Min.   :0.0   Min.   :0.0     1      :10000   Min.   :0.000   Min.   :0.0000  \n",
       " 1st Qu.:0.0   1st Qu.:0.0     2      :10000   1st Qu.:0.000   1st Qu.:0.0000  \n",
       " Median :0.0   Median :0.0     3      :10000   Median :0.000   Median :1.0000  \n",
       " Mean   :0.1   Mean   :0.1     4      :10000   Mean   :0.059   Mean   :0.7339  \n",
       " 3rd Qu.:0.0   3rd Qu.:0.0     5      :10000   3rd Qu.:0.000   3rd Qu.:1.0000  \n",
       " Max.   :1.0   Max.   :1.0     6      :10000   Max.   :1.000   Max.   :1.0000  \n",
       "               NA's   :94890   (Other):40000                                   \n",
       " educ.plusCollege gender.female     gender.male      gender.other   \n",
       " Min.   :0.0000   Min.   :0.0000   Min.   :0.0000   Min.   :0.0000  \n",
       " 1st Qu.:0.0000   1st Qu.:0.0000   1st Qu.:0.0000   1st Qu.:0.0000  \n",
       " Median :0.0000   Median :1.0000   Median :0.0000   Median :0.0000  \n",
       " Mean   :0.2071   Mean   :0.5131   Mean   :0.4765   Mean   :0.0104  \n",
       " 3rd Qu.:0.0000   3rd Qu.:1.0000   3rd Qu.:1.0000   3rd Qu.:0.0000  \n",
       " Max.   :1.0000   Max.   :1.0000   Max.   :1.0000   Max.   :1.0000  \n",
       "                                                                    \n",
       "  loc.brooklyn    loc.manhattan      loc.queens       loc.other    \n",
       " Min.   :0.0000   Min.   :0.0000   Min.   :0.0000   Min.   :0.000  \n",
       " 1st Qu.:0.0000   1st Qu.:0.0000   1st Qu.:0.0000   1st Qu.:0.000  \n",
       " Median :0.0000   Median :1.0000   Median :0.0000   Median :0.000  \n",
       " Mean   :0.3827   Mean   :0.5129   Mean   :0.0974   Mean   :0.007  \n",
       " 3rd Qu.:1.0000   3rd Qu.:1.0000   3rd Qu.:0.0000   3rd Qu.:0.000  \n",
       " Max.   :1.0000   Max.   :1.0000   Max.   :1.0000   Max.   :1.000  \n",
       "                                                                   \n",
       " purchase.inStore purchase.online  brand.aquafresh brand.colgate\n",
       " Min.   :0.0000   Min.   :0.0000   Min.   :0.0     Min.   :0.0  \n",
       " 1st Qu.:0.0000   1st Qu.:0.0000   1st Qu.:0.0     1st Qu.:0.0  \n",
       " Median :1.0000   Median :0.0000   Median :0.0     Median :0.0  \n",
       " Mean   :0.5607   Mean   :0.4393   Mean   :0.3     Mean   :0.3  \n",
       " 3rd Qu.:1.0000   3rd Qu.:1.0000   3rd Qu.:1.0     3rd Qu.:1.0  \n",
       " Max.   :1.0000   Max.   :1.0000   Max.   :1.0     Max.   :1.0  \n",
       "                                                                \n",
       " brand.sensodyne  brand.crest     mint.yes     white.yes    fluoride.yes\n",
       " Min.   :0.0     Min.   :0.0   Min.   :0.0   Min.   :0.0   Min.   :0.0  \n",
       " 1st Qu.:0.0     1st Qu.:0.0   1st Qu.:0.0   1st Qu.:0.0   1st Qu.:0.0  \n",
       " Median :0.0     Median :0.0   Median :0.5   Median :1.0   Median :0.5  \n",
       " Mean   :0.2     Mean   :0.2   Mean   :0.5   Mean   :0.6   Mean   :0.5  \n",
       " 3rd Qu.:0.0     3rd Qu.:0.0   3rd Qu.:1.0   3rd Qu.:1.0   3rd Qu.:1.0  \n",
       " Max.   :1.0     Max.   :1.0   Max.   :1.0   Max.   :1.0   Max.   :1.0  \n",
       "                                                                        \n",
       "    kids.yes    product.id1   product.id2   product.id3   product.id4 \n",
       " Min.   :0.0   Min.   :0.0   Min.   :0.0   Min.   :0.0   Min.   :0.0  \n",
       " 1st Qu.:0.0   1st Qu.:0.0   1st Qu.:0.0   1st Qu.:0.0   1st Qu.:0.0  \n",
       " Median :0.0   Median :0.0   Median :0.0   Median :0.0   Median :0.0  \n",
       " Mean   :0.3   Mean   :0.1   Mean   :0.1   Mean   :0.1   Mean   :0.1  \n",
       " 3rd Qu.:1.0   3rd Qu.:0.0   3rd Qu.:0.0   3rd Qu.:0.0   3rd Qu.:0.0  \n",
       " Max.   :1.0   Max.   :1.0   Max.   :1.0   Max.   :1.0   Max.   :1.0  \n",
       "                                                                      \n",
       "  product.id5   product.id6   product.id7   product.id8   product.id9 \n",
       " Min.   :0.0   Min.   :0.0   Min.   :0.0   Min.   :0.0   Min.   :0.0  \n",
       " 1st Qu.:0.0   1st Qu.:0.0   1st Qu.:0.0   1st Qu.:0.0   1st Qu.:0.0  \n",
       " Median :0.0   Median :0.0   Median :0.0   Median :0.0   Median :0.0  \n",
       " Mean   :0.1   Mean   :0.1   Mean   :0.1   Mean   :0.1   Mean   :0.1  \n",
       " 3rd Qu.:0.0   3rd Qu.:0.0   3rd Qu.:0.0   3rd Qu.:0.0   3rd Qu.:0.0  \n",
       " Max.   :1.0   Max.   :1.0   Max.   :1.0   Max.   :1.0   Max.   :1.0  \n",
       "                                                                      \n",
       "  product.id10   income.low     income.med    income.high    age.below40    \n",
       " Min.   :0.0   Min.   :0.00   Min.   :0.00   Min.   :0.00   Min.   :0.0000  \n",
       " 1st Qu.:0.0   1st Qu.:0.00   1st Qu.:0.00   1st Qu.:0.00   1st Qu.:0.0000  \n",
       " Median :0.0   Median :0.00   Median :0.00   Median :0.00   Median :0.0000  \n",
       " Mean   :0.1   Mean   :0.33   Mean   :0.33   Mean   :0.34   Mean   :0.0064  \n",
       " 3rd Qu.:0.0   3rd Qu.:1.00   3rd Qu.:1.00   3rd Qu.:1.00   3rd Qu.:0.0000  \n",
       " Max.   :1.0   Max.   :1.00   Max.   :1.00   Max.   :1.00   Max.   :1.0000  \n",
       "                                                                            \n",
       "  age.below45      age.below50      age.below55      age.above55    \n",
       " Min.   :0.0000   Min.   :0.0000   Min.   :0.0000   Min.   :0.0000  \n",
       " 1st Qu.:0.0000   1st Qu.:0.0000   1st Qu.:0.0000   1st Qu.:0.0000  \n",
       " Median :0.0000   Median :0.0000   Median :0.0000   Median :0.0000  \n",
       " Mean   :0.1184   Mean   :0.4351   Mean   :0.3617   Mean   :0.0784  \n",
       " 3rd Qu.:0.0000   3rd Qu.:1.0000   3rd Qu.:1.0000   3rd Qu.:0.0000  \n",
       " Max.   :1.0000   Max.   :1.0000   Max.   :1.0000   Max.   :1.0000  \n",
       "                                                                    \n",
       "  income.cat        age.cat     \n",
       " low   :33000   below 45:12480  \n",
       " medium:33000   below 50:43510  \n",
       " high  :34000   below 55:36170  \n",
       "                above 55: 7840  \n",
       "                                \n",
       "                                \n",
       "                                "
      ]
     },
     "metadata": {},
     "output_type": "display_data"
    }
   ],
   "source": [
    "# income\n",
    "data$income.cat <- \"\"\n",
    "data$income.cat[data$inc < quantile(data$inc,0.33)] <- \"low\"\n",
    "data$income.cat[data$inc < quantile(data$inc,0.66) & \n",
    "                              (data$inc >= quantile(data$inc,0.33))] <- \"medium\"\n",
    "data$income.cat[data$inc >= quantile(data$inc,0.66)] <- \"high\"\n",
    "data$income.cat <- factor(data$income.cat, levels = c(\"low\", \"medium\", \"high\"))\n",
    "\n",
    "data$income.low <- as.numeric(data$inc < quantile(data$inc,0.33))\n",
    "data$income.med <- as.numeric((data$inc < quantile(data$inc,0.66)) & \n",
    "                              (data$inc >= quantile(data$inc,0.33)))\n",
    "data$income.high <- as.numeric(data$inc >= quantile(data$inc,0.66))\n",
    "\n",
    "# age\n",
    "data$age.cat <- \"\"\n",
    "data$age.cat[data$age < 45] <- \"below 45\"\n",
    "data$age.cat[data$age < 50 & data$age >= 45] <- \"below 50\"\n",
    "data$age.cat[data$age < 55 & data$age >= 50] <- \"below 55\"\n",
    "data$age.cat[data$age >= 55] <- \"above 55\"\n",
    "data$age.cat <- factor(data$age.cat,levels=c(\"below 45\",\"below 50\",\"below 55\",\"above 55\"))\n",
    "\n",
    "data$age.below45 <- as.numeric(data$age < 45 )\n",
    "data$age.below50 <- as.numeric(data$age < 50 & data$age >= 45)\n",
    "data$age.below55 <- as.numeric(data$age < 55 & data$age >= 50)\n",
    "data$age.above55 <- as.numeric(data$age >= 55)\n",
    "\n",
    "# education\n",
    "data$educ.highschool  <- as.numeric(data$education == \"High School\")\n",
    "data$educ.college     <- as.numeric(data$education == \"College\")\n",
    "data$educ.plusCollege <- as.numeric(data$education == \"More than College\")\n",
    "# gender\n",
    "data$gender.female <- as.numeric(data$gender == \"Female\")\n",
    "data$gender.male   <- as.numeric(data$gender == \"Male\")\n",
    "data$gender.other  <- as.numeric(data$gender == \"Other\")\n",
    "# location\n",
    "data$loc.brooklyn  <- as.numeric(data$location == \"Brooklyn\")\n",
    "data$loc.manhattan <- as.numeric(data$location == \"Manhattan\")\n",
    "data$loc.queens    <- as.numeric(data$location == \"Queens\")\n",
    "data$loc.other     <- as.numeric(data$location == \"Other\")\n",
    "# purchase\n",
    "data$purchase.inStore <- as.numeric(data$purchase == \"In Store\")\n",
    "data$purchase.online  <- as.numeric(data$purchase == \"Online\")\n",
    "# brand\n",
    "data$brand.aquafresh <- as.numeric(data$brandid == \"Aquafresh\")\n",
    "data$brand.colgate   <- as.numeric(data$brandid == \"Colgate\")\n",
    "data$brand.sensodyne <- as.numeric(data$brandid == \"Sensodyne\")\n",
    "data$brand.crest     <- as.numeric(data$brandid == \"Crest\")\n",
    "# mint\n",
    "data$mint.yes  <- as.numeric(data$mint == \"Yes\")\n",
    "# white\n",
    "data$white.yes <- as.numeric(data$white == \"Yes\")\n",
    "# fluoride\n",
    "data$fluoride.yes <- as.numeric(data$fluoride == \"Yes\")\n",
    "# kids\n",
    "data$kids.yes <- as.numeric(data$kids == \"Yes\")\n",
    "# product id\n",
    "data$product.id1 <- as.numeric(data$productId == 1)\n",
    "data$product.id2 <- as.numeric(data$productId == 2)\n",
    "data$product.id3 <- as.numeric(data$productId == 3)\n",
    "data$product.id4 <- as.numeric(data$productId == 4)\n",
    "data$product.id5 <- as.numeric(data$productId == 5)\n",
    "data$product.id6 <- as.numeric(data$productId == 6)\n",
    "data$product.id7 <- as.numeric(data$productId == 7)\n",
    "data$product.id8 <- as.numeric(data$productId == 8)\n",
    "data$product.id9 <- as.numeric(data$productId == 9)\n",
    "data$product.id10 <- as.numeric(data$productId == 10)\n",
    "head(data)\n",
    "summary(data)"
   ]
  },
  {
   "cell_type": "markdown",
   "id": "53b7ef3b",
   "metadata": {},
   "source": [
    "## Look at correlations"
   ]
  },
  {
   "cell_type": "markdown",
   "id": "d68ea84e",
   "metadata": {},
   "source": [
    "### Pairwise correlations between characteristics"
   ]
  },
  {
   "cell_type": "code",
   "execution_count": 89,
   "id": "b9e34949",
   "metadata": {
    "scrolled": false
   },
   "outputs": [
    {
     "data": {
      "image/png": "[encoded data removed]",
      "text/plain": [
       "Plot with title \"\""
      ]
     },
     "metadata": {
      "image/png": {
       "height": 420,
       "width": 420
      }
     },
     "output_type": "display_data"
    },
    {
     "data": {
      "image/png": "[encoded data removed]",
      "text/plain": [
       "Plot with title \"\""
      ]
     },
     "metadata": {
      "image/png": {
       "height": 420,
       "width": 420
      }
     },
     "output_type": "display_data"
    }
   ],
   "source": [
    "consumerCharacts <- c(\"age\",\"inc\",\"educ.highschool\", \"educ.college\", \"educ.plusCollege\",\n",
    "                      \"gender.female\",\"gender.male\",\"gender.other\",\n",
    "                      \"loc.brooklyn\",\"loc.manhattan\", \"loc.queens\",\"loc.other\",\n",
    "                      \"purchase.inStore\",\"purchase.online\")\n",
    "\n",
    "productCharacts  <- c(\"brand.aquafresh\",\"brand.colgate\",\"brand.crest\",\"brand.sensodyne\",\n",
    "                      \"mint.yes\",\"white.yes\",\"fluoride.yes\",\"kids.yes\",\"size\",\"discount\",\"familypack\",\"priceperoz\",\n",
    "                     \"priceperpack\")\n",
    "\n",
    "corrplot(cor(unique(data[,consumerCharacts])))\n",
    "corrplot(cor(unique(data[,productCharacts])))"
   ]
  },
  {
   "cell_type": "markdown",
   "id": "25d2484a",
   "metadata": {},
   "source": [
    "### Choices by consumer characteristics"
   ]
  },
  {
   "cell_type": "code",
   "execution_count": 117,
   "id": "0f33ab7e",
   "metadata": {
    "scrolled": false
   },
   "outputs": [],
   "source": [
    "dataChosen <- data[data$Chosen == 1,]\n",
    "dataChosen$size <- (dataChosen$size-min(dataChosen$size))/(max(dataChosen$size)-min(dataChosen$size))\n",
    "dataChosen$inc <- dataChosen$inc/1000\n",
    "\n",
    "consumerCharacts <- c(\"age.cat\",\"income.cat\",\"education\", \"location\", \"gender\",\"purchase\")\n",
    "productCharacts  <- c(\"brandid\",\"mint\",\"white\",\"fluoride\",\"kids\",\"size\",\"discount\",\"familypack\")\n",
    "\n",
    "\n",
    "# colgate\n",
    "mod_1 <- glm(brand.colgate ~ age + inc + educ.college + educ.plusCollege +\n",
    "                        loc.brooklyn + loc.manhattan + loc.queens +\n",
    "                        gender.female + gender.male + purchase.inStore, data = dataChosen, family = \"binomial\")\n",
    "# aquafresh\n",
    "mod_2 <- glm(brand.aquafresh ~ age + inc + educ.college + educ.plusCollege +\n",
    "                        loc.brooklyn + loc.manhattan + loc.queens +\n",
    "                        gender.female + gender.male + purchase.inStore, data = dataChosen, family = \"binomial\")\n",
    "# crest\n",
    "mod_3 <- glm(brand.crest ~ age + inc + educ.college + educ.plusCollege +\n",
    "                        loc.brooklyn + loc.manhattan + loc.queens +\n",
    "                        gender.female + gender.male + purchase.inStore, data = dataChosen, family = \"binomial\")\n",
    "# sensodyne\n",
    "mod_35 <- glm(brand.sensodyne ~ age + inc + educ.college + educ.plusCollege +\n",
    "                        loc.brooklyn + loc.manhattan + loc.queens +\n",
    "                        gender.female + gender.male + purchase.inStore, data = dataChosen, family = \"binomial\")\n",
    "# mint\n",
    "mod_4 <- glm(mint.yes ~ age + inc + educ.college + educ.plusCollege +\n",
    "                        loc.brooklyn + loc.manhattan + loc.queens +\n",
    "                        gender.female + gender.male + purchase.inStore, data = dataChosen, family = \"binomial\")\n",
    "# white\n",
    "mod_5 <- glm(white.yes ~ age + inc + educ.college + educ.plusCollege +\n",
    "                        loc.brooklyn + loc.manhattan + loc.queens +\n",
    "                        gender.female + gender.male + purchase.inStore, data = dataChosen, family = \"binomial\")\n",
    "# fluoride\n",
    "mod_6 <- glm(fluoride.yes ~ age + inc + educ.college + educ.plusCollege +\n",
    "                        loc.brooklyn + loc.manhattan + loc.queens +\n",
    "                        gender.female + gender.male + purchase.inStore, data = dataChosen, family = \"binomial\")\n",
    "# kids\n",
    "mod_7 <- glm(kids.yes ~ age + inc + educ.college + educ.plusCollege +\n",
    "                        loc.brooklyn + loc.manhattan + loc.queens +\n",
    "                        gender.female + gender.male + purchase.inStore, data = dataChosen, family = \"binomial\")\n",
    "# size\n",
    "mod_8 <- glm(size ~ age + inc + educ.college + educ.plusCollege +\n",
    "                        loc.brooklyn + loc.manhattan + loc.queens +\n",
    "                        gender.female + gender.male + purchase.inStore, data = dataChosen, family = \"binomial\")\n",
    "# discount\n",
    "mod_9 <- glm(discount ~ age + inc + educ.college + educ.plusCollege +\n",
    "                        loc.brooklyn + loc.manhattan + loc.queens +\n",
    "                        gender.female + gender.male + purchase.inStore, data = dataChosen, family = \"binomial\")\n",
    "# family pack\n",
    "mod_10 <- glm(familypack ~ age + inc + educ.college + educ.plusCollege +\n",
    "                        loc.brooklyn + loc.manhattan + loc.queens +\n",
    "                        gender.female + gender.male + purchase.inStore, data = dataChosen, family = \"binomial\")"
   ]
  },
  {
   "cell_type": "markdown",
   "id": "88a013e0",
   "metadata": {},
   "source": [
    "#### By brand"
   ]
  },
  {
   "cell_type": "code",
   "execution_count": 118,
   "id": "53e59869",
   "metadata": {},
   "outputs": [
    {
     "name": "stdout",
     "output_type": "stream",
     "text": [
      "\n",
      "===========================================================================\n",
      "                                     Dependent variable:                   \n",
      "                  ---------------------------------------------------------\n",
      "                  brand.colgate brand.aquafresh brand.crest brand.sensodyne\n",
      "                       (1)            (2)           (3)           (4)      \n",
      "---------------------------------------------------------------------------\n",
      "age                   0.009         -0.010        -0.004        -0.007     \n",
      "                     (0.006)        (0.008)       (0.011)       (0.009)    \n",
      "                                                                           \n",
      "inc                   0.004         -0.002        -0.014*        0.003     \n",
      "                     (0.004)        (0.006)       (0.008)       (0.007)    \n",
      "                                                                           \n",
      "educ.college         -0.021        0.442***       -0.187        -0.224     \n",
      "                     (0.105)        (0.166)       (0.174)       (0.150)    \n",
      "                                                                           \n",
      "educ.plusCollege     -0.058        0.802***       -0.246       -0.647***   \n",
      "                     (0.136)        (0.202)       (0.240)       (0.206)    \n",
      "                                                                           \n",
      "loc.brooklyn          0.250         -0.084        -0.350        -0.220     \n",
      "                     (0.254)        (0.346)       (0.433)       (0.381)    \n",
      "                                                                           \n",
      "loc.manhattan         0.289         -0.188        -0.277        -0.227     \n",
      "                     (0.254)        (0.346)       (0.432)       (0.380)    \n",
      "                                                                           \n",
      "loc.queens            0.171         -0.020        -0.261        -0.178     \n",
      "                     (0.261)        (0.355)       (0.446)       (0.392)    \n",
      "                                                                           \n",
      "gender.female         0.185         -0.116         0.308        -0.424     \n",
      "                     (0.211)        (0.283)       (0.462)       (0.292)    \n",
      "                                                                           \n",
      "gender.male           0.199         -0.206         0.296        -0.333     \n",
      "                     (0.212)        (0.283)       (0.463)       (0.292)    \n",
      "                                                                           \n",
      "purchase.inStore      0.007         0.115*         0.116       -0.240***   \n",
      "                     (0.048)        (0.066)       (0.089)       (0.074)    \n",
      "                                                                           \n",
      "Constant             -0.260        -1.571**       -1.405        -1.096     \n",
      "                     (0.472)        (0.645)       (0.882)       (0.703)    \n",
      "                                                                           \n",
      "---------------------------------------------------------------------------\n",
      "Observations         10,000         10,000        10,000        10,000     \n",
      "Log Likelihood     -5,987.194     -3,779.250    -2,370.577    -3,137.819   \n",
      "Akaike Inf. Crit.  11,996.390      7,580.500     4,763.155     6,297.637   \n",
      "===========================================================================\n",
      "Note:                                           *p<0.1; **p<0.05; ***p<0.01\n"
     ]
    }
   ],
   "source": [
    "stargazer(mod_1,mod_2,mod_3,mod_35,type=\"text\")"
   ]
  },
  {
   "cell_type": "markdown",
   "id": "82e6a03b",
   "metadata": {},
   "source": [
    "#### Other characteristics"
   ]
  },
  {
   "cell_type": "code",
   "execution_count": 119,
   "id": "9abb2b15",
   "metadata": {},
   "outputs": [
    {
     "name": "stdout",
     "output_type": "stream",
     "text": [
      "\n",
      "===============================================================================================\n",
      "                                               Dependent variable:                             \n",
      "                  -----------------------------------------------------------------------------\n",
      "                   mint.yes  white.yes  fluoride.yes kids.yes     size     discount  familypack\n",
      "                     (1)        (2)         (3)         (4)       (5)        (6)        (7)    \n",
      "-----------------------------------------------------------------------------------------------\n",
      "age                 0.004      -0.002      0.004      -0.008     0.003      0.001    -0.015*** \n",
      "                   (0.014)    (0.006)     (0.006)     (0.021)   (0.006)    (0.009)    (0.005)  \n",
      "                                                                                               \n",
      "inc                 0.010     -0.010**     0.008*     -0.027*    0.004    -0.018***    0.003   \n",
      "                   (0.011)    (0.005)     (0.004)     (0.016)   (0.005)    (0.006)    (0.004)  \n",
      "                                                                                               \n",
      "educ.college        -0.284   -0.588***    0.610***     0.120    0.305**     -0.042     -0.118  \n",
      "                   (0.261)    (0.101)     (0.097)     (0.361)   (0.119)    (0.165)    (0.096)  \n",
      "                                                                                               \n",
      "educ.plusCollege    -0.387   -1.145***    1.196***     0.489    0.647***    -0.074    -0.289** \n",
      "                   (0.333)    (0.141)     (0.131)     (0.476)   (0.148)    (0.207)    (0.125)  \n",
      "                                                                                               \n",
      "loc.brooklyn        0.597      0.016       0.118      -0.951     -0.045     0.132      -0.217  \n",
      "                   (0.475)    (0.290)     (0.257)     (0.605)   (0.272)    (0.380)    (0.242)  \n",
      "                                                                                               \n",
      "loc.manhattan       0.588      0.086       0.059      -1.001*    -0.077     -0.024     -0.250  \n",
      "                   (0.477)    (0.289)     (0.257)     (0.608)   (0.272)    (0.379)    (0.242)  \n",
      "                                                                                               \n",
      "loc.queens          0.262      0.047       0.087      -0.593     -0.079     0.081      -0.175  \n",
      "                   (0.488)    (0.297)     (0.264)     (0.627)   (0.280)    (0.390)    (0.248)  \n",
      "                                                                                               \n",
      "gender.female       0.105      0.436*      -0.192      0.513     -0.261     0.117      0.066   \n",
      "                   (0.520)    (0.264)     (0.221)     (1.013)   (0.218)    (0.311)    (0.202)  \n",
      "                                                                                               \n",
      "gender.male         -0.010     0.391       -0.191      0.464     -0.170     0.051      0.016   \n",
      "                   (0.519)    (0.264)     (0.221)     (1.013)   (0.218)    (0.311)    (0.202)  \n",
      "                                                                                               \n",
      "purchase.inStore  -1.547***    -0.003     0.111**    1.144***   0.197***   -0.163**    0.023   \n",
      "                   (0.152)    (0.052)     (0.047)     (0.212)   (0.050)    (0.070)    (0.044)  \n",
      "                                                                                               \n",
      "Constant           3.150***    -0.186      -0.667     -2.376   -1.711***   3.320***    0.474   \n",
      "                   (1.068)    (0.530)     (0.471)     (1.687)   (0.496)    (0.697)    (0.441)  \n",
      "                                                                                               \n",
      "-----------------------------------------------------------------------------------------------\n",
      "Observations        10,000     10,000      10,000     10,000     10,000     10,000     10,000  \n",
      "Log Likelihood    -1,544.795 -5,375.838  -6,186.020  -793.926  -5,653.058 -3,422.226 -6,769.994\n",
      "Akaike Inf. Crit. 3,111.591  10,773.680  12,394.040  1,609.852 11,328.110 6,866.453  13,561.990\n",
      "===============================================================================================\n",
      "Note:                                                               *p<0.1; **p<0.05; ***p<0.01\n"
     ]
    }
   ],
   "source": [
    "stargazer(mod_4,mod_5,mod_6,mod_7,mod_8,mod_9,mod_10,type=\"text\")"
   ]
  },
  {
   "cell_type": "code",
   "execution_count": null,
   "id": "beac67ed",
   "metadata": {},
   "outputs": [],
   "source": []
  },
  {
   "cell_type": "code",
   "execution_count": null,
   "id": "d70dd893",
   "metadata": {},
   "outputs": [],
   "source": []
  },
  {
   "cell_type": "code",
   "execution_count": null,
   "id": "b7e69d0e",
   "metadata": {},
   "outputs": [],
   "source": []
  }
 ],
 "metadata": {
  "kernelspec": {
   "display_name": "R",
   "language": "R",
   "name": "ir"
  },
  "language_info": {
   "codemirror_mode": "r",
   "file_extension": ".r",
   "mimetype": "text/x-r-source",
   "name": "R",
   "pygments_lexer": "r",
   "version": "4.1.2"
  }
 },
 "nbformat": 4,
 "nbformat_minor": 5
}
